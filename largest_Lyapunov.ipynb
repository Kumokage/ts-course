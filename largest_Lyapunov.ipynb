{
 "cells": [
  {
   "cell_type": "markdown",
   "metadata": {},
   "source": [
    "# Largest Lyapunov exponent calculation"
   ]
  },
  {
   "cell_type": "markdown",
   "metadata": {},
   "source": [
    "### Algorithm"
   ]
  },
  {
   "cell_type": "code",
   "execution_count": 56,
   "metadata": {},
   "outputs": [],
   "source": [
    "import numpy as np"
   ]
  },
  {
   "cell_type": "code",
   "execution_count": 57,
   "metadata": {},
   "outputs": [],
   "source": [
    "# Logistic map\n",
    "def logistic_map(n=2**15, r=4, x0=.4):\n",
    "    x = np.zeros(n)\n",
    "    x[0] = x0\n",
    "    for i in range(n-1):\n",
    "        x[i+1] = r*x[i]*(1-x[i])\n",
    "    return x\n",
    "\n",
    "\n",
    "# Henon map\n",
    "def henon_map(n=1000000, a=1.4, b=0.3, x0=.4, y0=0):\n",
    "    x = np.zeros(n)\n",
    "    y = np.zeros(n)\n",
    "    x[0] = x0\n",
    "    y[0] = y0\n",
    "    for i in range(1, len(x)):\n",
    "        x[i] = 1 - a * x[i-1] ** 2 + y[i-1] \n",
    "        y[i] = b * x[i-1]\n",
    "    return x\n",
    "\n",
    "\n",
    "# Lorenz ts\n",
    "def lorenz_ts(N=None):\n",
    "    x = np.array([])\n",
    "    i = 0\n",
    "    with open(\"lorenz.txt\") as f:\n",
    "        for line in f:\n",
    "            x = np.append(x, float(line))\n",
    "            i += 1\n",
    "            if N is not None and i == N:\n",
    "                break\n",
    "    return x\n",
    "\n",
    "sine_data = np.sin(np.arange(0,1000,.01))\n",
    "\n",
    "lorenz = lorenz_ts()\n",
    "logistic = logistic_map()\n",
    "henon = henon_map()"
   ]
  },
  {
   "cell_type": "code",
   "execution_count": 58,
   "metadata": {},
   "outputs": [],
   "source": [
    "# Use Fast Furie Transform for finding mean period\n",
    "def find_mean_period(y):\n",
    "    discrete_fft = np.fft.rfft(y, len(y) * 2 - 1)\n",
    "    mean_freq = np.sum((np.fft.rfftfreq(len(y) * 2 - 1) * discrete_fft**2)[1:]) / np.sum(discrete_fft[1:]**2)\n",
    "\n",
    "    return min(int(1.0 / mean_freq.real), int(len(y) / 4))"
   ]
  },
  {
   "cell_type": "code",
   "execution_count": 59,
   "metadata": {},
   "outputs": [],
   "source": [
    "from sklearn.metrics.pairwise import euclidean_distances\n",
    "\n",
    "def largest_exponent(series: np.array, J: int, m: int, t: float, \n",
    "                     mean_period: int = 1, trajectory_len: int = 20):\n",
    "    # compute shape values\n",
    "    N = series.shape[0]\n",
    "    M = N - (m-1) * J\n",
    "\n",
    "    # reconstruct with lag algorithm\n",
    "    x = np.zeros((M, m))\n",
    "    for i in range(M):\n",
    "        indexes = np.ones(m) * i + np.arange(m) * J\n",
    "        x[i] = series[indexes.astype(int)]\n",
    "    \n",
    "    # Find nearest neighbor\n",
    "    distances = euclidean_distances(x)\n",
    "    neighbor_candidate = np.argsort(distances[:,:M-trajectory_len], axis=1)\n",
    "    indexes = np.abs(np.arange(M).reshape(-1, 1) - neighbor_candidate) > mean_period\n",
    "    neighbors = np.array([], dtype=int)\n",
    "    for index, neighbor in zip(indexes, neighbor_candidate):\n",
    "        neighbors = np.append(neighbors, neighbor[index][0]) \n",
    "\n",
    "    # mean rate of separation\n",
    "    y = np.zeros(trajectory_len)\n",
    "    for i in range(trajectory_len):\n",
    "        neighbors_i = neighbors[:M-i] + i\n",
    "        neighbors_i[neighbors_i >= M] = (M - 1)\n",
    "        separation = distances[(np.arange(M - i) + i, neighbors_i)]\n",
    "        separation = separation[neighbors[:M-i] + i < M]\n",
    "        separation = separation[separation != 0]\n",
    "        \n",
    "        if separation.shape[0] == 0:\n",
    "            y[i] = np.inf\n",
    "        else:\n",
    "            y[i] = np.log(separation).mean() / t\n",
    "\n",
    "    y = y[np.isfinite(y)]\n",
    "    slope, _ = np.polyfit(np.arange(1, len(y) + 1), y, 1)\n",
    "    return slope"
   ]
  },
  {
   "cell_type": "code",
   "execution_count": 60,
   "metadata": {},
   "outputs": [
    {
     "name": "stdout",
     "output_type": "stream",
     "text": [
      "Logistic map 0.477\n",
      "Baseline: 0.693\n"
     ]
    }
   ],
   "source": [
    "mean_period = find_mean_period(logistic[:10000])\n",
    "\n",
    "print(f\"Logistic map {largest_exponent(logistic[:10000], J=1, m=2, t=1, \n",
    "                                       trajectory_len=20, mean_period=mean_period):.3f}\")\n",
    "print(\"Baseline: 0.693\")"
   ]
  },
  {
   "cell_type": "code",
   "execution_count": 61,
   "metadata": {},
   "outputs": [
    {
     "name": "stdout",
     "output_type": "stream",
     "text": [
      "Lorenz 1.146\n",
      "Baseline 1.5\n"
     ]
    }
   ],
   "source": [
    "mean_period = find_mean_period(lorenz[:10000])\n",
    "\n",
    "print(f\"Lorenz {largest_exponent(lorenz[:10000], J=1, m=5, t=0.1, trajectory_len=20, mean_period=mean_period):.3f}\")\n",
    "print(\"Baseline 1.5\")"
   ]
  },
  {
   "cell_type": "code",
   "execution_count": 62,
   "metadata": {},
   "outputs": [
    {
     "name": "stdout",
     "output_type": "stream",
     "text": [
      "Henon map 0.369\n",
      "Baseline 0.418\n"
     ]
    }
   ],
   "source": [
    "mean_period = find_mean_period(henon[:10000])\n",
    "\n",
    "print(f\"Henon map {largest_exponent(henon[:10000], J=1, m=2, t=1, \n",
    "                                    trajectory_len=20, mean_period=mean_period):.3f}\")\n",
    "print(\"Baseline 0.418\")"
   ]
  },
  {
   "cell_type": "code",
   "execution_count": 63,
   "metadata": {},
   "outputs": [
    {
     "name": "stdout",
     "output_type": "stream",
     "text": [
      "Sin -0.000\n"
     ]
    }
   ],
   "source": [
    "mean_period = find_mean_period(sine_data[:10000])\n",
    "\n",
    "print(f\"Sin {largest_exponent(sine_data[:10000], J=3, m=2, t=1, mean_period=mean_period):.3f}\")"
   ]
  }
 ],
 "metadata": {
  "kernelspec": {
   "display_name": ".venv",
   "language": "python",
   "name": "python3"
  },
  "language_info": {
   "codemirror_mode": {
    "name": "ipython",
    "version": 3
   },
   "file_extension": ".py",
   "mimetype": "text/x-python",
   "name": "python",
   "nbconvert_exporter": "python",
   "pygments_lexer": "ipython3",
   "version": "3.12.0"
  }
 },
 "nbformat": 4,
 "nbformat_minor": 2
}
