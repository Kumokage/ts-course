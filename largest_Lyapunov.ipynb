{
 "cells": [
  {
   "cell_type": "markdown",
   "metadata": {},
   "source": [
    "# Largest Lyapunov exponent calculation"
   ]
  },
  {
   "cell_type": "markdown",
   "metadata": {},
   "source": [
    "### Algorithm"
   ]
  },
  {
   "cell_type": "code",
   "execution_count": 2,
   "metadata": {},
   "outputs": [],
   "source": [
    "import numpy as np"
   ]
  },
  {
   "cell_type": "code",
   "execution_count": 3,
   "metadata": {},
   "outputs": [],
   "source": [
    "# Logistic map\n",
    "def logistic_map(n=2**15, r=4, x0=.4):\n",
    "    x = np.zeros(n)\n",
    "    x[0] = x0\n",
    "    for i in range(n-1):\n",
    "        x[i+1] = r*x[i]*(1-x[i])\n",
    "    return x\n",
    "\n",
    "\n",
    "# Henon map\n",
    "def henon_map(n=1000000, a=1.4, b=0.3, x0=.4):\n",
    "    x = np.zeros(n)\n",
    "    x[0] = x0\n",
    "    for i in range(1, len(x)):\n",
    "        x[i] = 1 - a * x[i-1] ** 2 + b * x[i-1]\n",
    "    return x\n",
    "\n",
    "\n",
    "# Lorenz ts\n",
    "def lorenz_ts(N=None):\n",
    "    x = np.array([])\n",
    "    i = 0\n",
    "    with open(\"lorenz.txt\") as f:\n",
    "        for line in f:\n",
    "            x = np.append(x, float(line))\n",
    "            i += 1\n",
    "            if N is not None and i == N:\n",
    "                break\n",
    "    return x\n",
    "\n",
    "sine_data = np.sin(np.arange(0,1000,.01))\n",
    "\n",
    "lorenz = lorenz_ts()\n",
    "logistic = logistic_map()\n",
    "henon = henon_map()"
   ]
  },
  {
   "cell_type": "code",
   "execution_count": 4,
   "metadata": {},
   "outputs": [],
   "source": [
    "from sklearn.metrics.pairwise import euclidean_distances\n",
    "\n",
    "def largest_exponent(series: np.array, J: int, m: int, t: float, \n",
    "                     mean_period: int = 1, trajectory_len: int = 20):\n",
    "    # compute shape values\n",
    "    N = series.shape[0]\n",
    "    M = N - (m-1) * J\n",
    "\n",
    "    # reconstruct with lag algorithm\n",
    "    x = np.zeros((M, m))\n",
    "    for i in range(M):\n",
    "        indexes = np.ones(m) * i + np.arange(m) * J\n",
    "        x[i] = series[indexes.astype(int)]\n",
    "    \n",
    "    # Find nearest neighbor\n",
    "    distances = euclidean_distances(x)\n",
    "    neighbors = np.argsort(distances[:,:M-trajectory_len], axis=1)[:,1]\n",
    "\n",
    "    # mean rate of separation\n",
    "    y = np.zeros(trajectory_len)\n",
    "    for i in range(trajectory_len):\n",
    "        neighbors_i = neighbors[:M-i] + i\n",
    "        neighbors_i[neighbors_i >= M] = (M - 1)\n",
    "        separation = distances[(np.arange(M - i) + i, neighbors_i)]\n",
    "        separation = separation[neighbors[:M-i] + i < M]\n",
    "        separation = separation[separation != 0]\n",
    "        \n",
    "        if separation.shape[0] == 0:\n",
    "            y[i] = np.inf\n",
    "        else:\n",
    "            y[i] = np.log(separation).mean() / t\n",
    "\n",
    "    y = y[np.isfinite(y)]\n",
    "    slope, _ = np.polyfit(np.arange(1, len(y) + 1), y, 1)\n",
    "    return slope"
   ]
  },
  {
   "cell_type": "code",
   "execution_count": 60,
   "metadata": {},
   "outputs": [
    {
     "name": "stdout",
     "output_type": "stream",
     "text": [
      "Logistic map 0.473\n"
     ]
    }
   ],
   "source": [
    "print(f\"Logistic map {largest_exponent(logistic[:5000], J=1, m=2, t=1, trajectory_len=20):.3f}\")"
   ]
  },
  {
   "cell_type": "code",
   "execution_count": 58,
   "metadata": {},
   "outputs": [
    {
     "name": "stdout",
     "output_type": "stream",
     "text": [
      "Lorenz 1.732\n"
     ]
    }
   ],
   "source": [
    "print(f\"Lorenz {largest_exponent(lorenz[:5000], J=11, m=3, t=0.01, trajectory_len=130):.3f}\")"
   ]
  },
  {
   "cell_type": "code",
   "execution_count": 39,
   "metadata": {},
   "outputs": [
    {
     "name": "stdout",
     "output_type": "stream",
     "text": [
      "Henon map -0.071\n"
     ]
    }
   ],
   "source": [
    "print(f\"Henon map {largest_exponent(henon[:5000], J=1, m=2, t=1, trajectory_len=20):.3f}\")"
   ]
  },
  {
   "cell_type": "code",
   "execution_count": 36,
   "metadata": {},
   "outputs": [
    {
     "name": "stdout",
     "output_type": "stream",
     "text": [
      "Sin -0.000\n"
     ]
    }
   ],
   "source": [
    "\n",
    "print(f\"Sin {largest_exponent(sine_data[:5000], J=3, m=2, t=1, trajectory_len=30):.3f}\")"
   ]
  },
  {
   "cell_type": "code",
   "execution_count": 7,
   "metadata": {},
   "outputs": [],
   "source": [
    "from sklearn.metrics.pairwise import euclidean_distances\n",
    "\n",
    "def largest_exponent_threshold(series: np.array, J: int, m: int, t: float = 0.1, threshold: float = 1):\n",
    "    # compute shape values\n",
    "    N = series.shape[0]\n",
    "    M = N - (m-1) * J\n",
    "\n",
    "    # reconstruct with lag algorithm\n",
    "    x = np.zeros((M, m))\n",
    "    for i in range(M):\n",
    "        indexes = np.ones(m) * i + np.arange(m) * J\n",
    "        x[i] = series[indexes.astype(int)]\n",
    "    \n",
    "    # Find nearest neighbor\n",
    "    distances = euclidean_distances(x)\n",
    "    neighbors = np.argsort(distances[:,:M-1], axis=1)[:,1]\n",
    "\n",
    "    # mean rate of separation\n",
    "    lambdas = []\n",
    "    count = 0\n",
    "    for i in range(M):\n",
    "        k = 1\n",
    "        j = neighbors[i]\n",
    "        while np.linalg.norm(distances[i, j] - distances[i, j + k]) < threshold:\n",
    "            k += 1\n",
    "            if j + k >= M:\n",
    "                k = -1\n",
    "                break\n",
    "\n",
    "        if k == -1 or k == 1:\n",
    "            continue\n",
    "\n",
    "        k -= 1\n",
    "        count += 1\n",
    "        lambdas.append((1/(t*k)) * np.log(distances[i, j + k] / distances[i, j]))\n",
    "\n",
    "    return (1/count) * np.array(lambdas).sum()"
   ]
  },
  {
   "cell_type": "code",
   "execution_count": 23,
   "metadata": {},
   "outputs": [
    {
     "name": "stdout",
     "output_type": "stream",
     "text": [
      "Logistic map 2.337\n"
     ]
    }
   ],
   "source": [
    "print(f\"Logistic map {largest_exponent_threshold(logistic[:5000], J=1, m=2, t=1, threshold=1):.3f}\")"
   ]
  },
  {
   "cell_type": "code",
   "execution_count": 24,
   "metadata": {},
   "outputs": [
    {
     "name": "stdout",
     "output_type": "stream",
     "text": [
      "Lorenz 0.336\n"
     ]
    }
   ],
   "source": [
    "print(f\"Lorenz {largest_exponent_threshold(lorenz[:5000], J=11, m=3, t=0.01, threshold=1):.3f}\")"
   ]
  },
  {
   "cell_type": "code",
   "execution_count": 28,
   "metadata": {},
   "outputs": [
    {
     "ename": "ZeroDivisionError",
     "evalue": "division by zero",
     "output_type": "error",
     "traceback": [
      "\u001b[0;31m---------------------------------------------------------------------------\u001b[0m",
      "\u001b[0;31mZeroDivisionError\u001b[0m                         Traceback (most recent call last)",
      "Cell \u001b[0;32mIn[28], line 1\u001b[0m\n\u001b[0;32m----> 1\u001b[0m \u001b[38;5;28mprint\u001b[39m(\u001b[38;5;124mf\u001b[39m\u001b[38;5;124m\"\u001b[39m\u001b[38;5;124mHenon map \u001b[39m\u001b[38;5;132;01m{\u001b[39;00m\u001b[43mlargest_exponent_threshold\u001b[49m\u001b[43m(\u001b[49m\u001b[43mhenon\u001b[49m\u001b[43m[\u001b[49m\u001b[43m:\u001b[49m\u001b[38;5;241;43m5000\u001b[39;49m\u001b[43m]\u001b[49m\u001b[43m,\u001b[49m\u001b[38;5;250;43m \u001b[39;49m\u001b[43mJ\u001b[49m\u001b[38;5;241;43m=\u001b[39;49m\u001b[38;5;241;43m1\u001b[39;49m\u001b[43m,\u001b[49m\u001b[38;5;250;43m \u001b[39;49m\u001b[43mm\u001b[49m\u001b[38;5;241;43m=\u001b[39;49m\u001b[38;5;241;43m2\u001b[39;49m\u001b[43m,\u001b[49m\u001b[38;5;250;43m \u001b[39;49m\u001b[43mt\u001b[49m\u001b[38;5;241;43m=\u001b[39;49m\u001b[38;5;241;43m1\u001b[39;49m\u001b[43m,\u001b[49m\u001b[38;5;250;43m \u001b[39;49m\u001b[43mthreshold\u001b[49m\u001b[38;5;241;43m=\u001b[39;49m\u001b[38;5;241;43m3\u001b[39;49m\u001b[43m)\u001b[49m\u001b[38;5;132;01m:\u001b[39;00m\u001b[38;5;124m.3f\u001b[39m\u001b[38;5;132;01m}\u001b[39;00m\u001b[38;5;124m\"\u001b[39m)\n",
      "Cell \u001b[0;32mIn[7], line 37\u001b[0m, in \u001b[0;36mlargest_exponent_threshold\u001b[0;34m(series, J, m, t, threshold)\u001b[0m\n\u001b[1;32m     34\u001b[0m     count \u001b[38;5;241m+\u001b[39m\u001b[38;5;241m=\u001b[39m \u001b[38;5;241m1\u001b[39m\n\u001b[1;32m     35\u001b[0m     lambdas\u001b[38;5;241m.\u001b[39mappend((\u001b[38;5;241m1\u001b[39m\u001b[38;5;241m/\u001b[39m(t\u001b[38;5;241m*\u001b[39mk)) \u001b[38;5;241m*\u001b[39m np\u001b[38;5;241m.\u001b[39mlog(distances[i, j \u001b[38;5;241m+\u001b[39m k] \u001b[38;5;241m/\u001b[39m distances[i, j]))\n\u001b[0;32m---> 37\u001b[0m \u001b[38;5;28;01mreturn\u001b[39;00m (\u001b[38;5;241;43m1\u001b[39;49m\u001b[38;5;241;43m/\u001b[39;49m\u001b[43mcount\u001b[49m) \u001b[38;5;241m*\u001b[39m np\u001b[38;5;241m.\u001b[39marray(lambdas)\u001b[38;5;241m.\u001b[39msum()\n",
      "\u001b[0;31mZeroDivisionError\u001b[0m: division by zero"
     ]
    }
   ],
   "source": [
    "print(f\"Henon map {largest_exponent_threshold(henon[:5000], J=1, m=2, t=1, threshold=3):.3f}\")"
   ]
  },
  {
   "cell_type": "code",
   "execution_count": 33,
   "metadata": {},
   "outputs": [
    {
     "name": "stdout",
     "output_type": "stream",
     "text": [
      "Sin 0.108\n"
     ]
    }
   ],
   "source": [
    "print(f\"Sin {largest_exponent_threshold(sine_data[:5000], J=3, m=5, t=1, threshold=1):.3f}\")"
   ]
  }
 ],
 "metadata": {
  "kernelspec": {
   "display_name": ".venv",
   "language": "python",
   "name": "python3"
  },
  "language_info": {
   "codemirror_mode": {
    "name": "ipython",
    "version": 3
   },
   "file_extension": ".py",
   "mimetype": "text/x-python",
   "name": "python",
   "nbconvert_exporter": "python",
   "pygments_lexer": "ipython3",
   "version": "3.12.0"
  }
 },
 "nbformat": 4,
 "nbformat_minor": 2
}
